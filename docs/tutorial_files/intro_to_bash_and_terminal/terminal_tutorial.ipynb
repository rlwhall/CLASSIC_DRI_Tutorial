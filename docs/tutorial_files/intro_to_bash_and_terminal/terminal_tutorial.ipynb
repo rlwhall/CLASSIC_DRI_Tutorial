{
 "cells": [
  {
   "cell_type": "markdown",
   "id": "c8fbe965",
   "metadata": {},
   "source": [
    "# Facilitator Speaking Notes\n",
    "\n",
    "### Overview for Facilitator\n",
    "Speaking notes for an Introduction to Bash session with workshop participants. Learners should already be familiar with what the concept of a terminal is. This session will give learners a feel for navigating a computer using the command line, to help conceptualize connecting to a remote machine. Important for students to build intuition for navigating through a computer using the command line.\n",
    "\n",
    "Instructions for the facilitator are italicized. Code sections indicate commands that the facilitator should enter and execute in their own terminal.\n",
    "\n",
    "**Note:** This tutorial was designed for use on a Windows OS. It may need to be adjusted for use on a different operating system"
   ]
  },
  {
   "cell_type": "markdown",
   "id": "1eb09999",
   "metadata": {},
   "source": [
    "### Introduction\n",
    "\n",
    "#### Opening the terminal\n",
    "*Demonstrate how to navigate to and open the terminal.*\n",
    "<br>*Prompt learners to open the terminal on their own computer.*\n",
    "<br>*Learners will follow along during this tutorial, entering commands into their terminal.*"
   ]
  },
  {
   "cell_type": "markdown",
   "id": "561a6908",
   "metadata": {},
   "source": [
    "#### pwd\n",
    "pwd stands for \"print working directory\". It lets you see where the terminal currently is in the computer."
   ]
  },
  {
   "cell_type": "code",
   "execution_count": 1,
   "id": "9c6ca5eb",
   "metadata": {},
   "outputs": [
    {
     "data": {
      "text/plain": [
       "'/Users/reneehall/Documents/Learning/Dalhousie/Grants/DRAC EDIA Champions/work'"
      ]
     },
     "execution_count": 1,
     "metadata": {},
     "output_type": "execute_result"
    }
   ],
   "source": [
    "pwd"
   ]
  },
  {
   "cell_type": "markdown",
   "id": "b7d4daf9",
   "metadata": {},
   "source": [
    "The working directory is the file directory that your computer is looking in when executing commands, such as creating or editing documents. \n",
    "\n",
    "This is a real directory on your computer that we can find outside of the terminal using the computers regular user interface. So let's find where in our file system our working directory is. The pwd command actually a filepath, which gives you a map of where on your directory is. \n",
    "\n",
    "*Open the file finder in the UI and go through the directory tree until you get to your working directory*\n",
    "\n",
    "It's helpful to think of your computers file systems as have a nested structure, like a nesting doll.\n",
    "\n",
    "*Draw a nesting doll on the whiteboard and explain how each directory is a container where more directories can be stored.*\n",
    "\n",
    "Notice that the name or your working directory appears beside your command prompt. This is a helpful visual reminder of which directory you are currently in.\n",
    "\n",
    "What happens if we want to change the directory that we are pointing to in the terminal? For that we can use the cd command."
   ]
  },
  {
   "cell_type": "markdown",
   "id": "e96e36ab",
   "metadata": {},
   "source": [
    "#### cd\n",
    "The cd command lets us change the directory that we are in. cd stands for \"current directory\". By itself, the cd command isn't too helpful. We need to include a location after cd to tell the terminal where it should navigate to. "
   ]
  },
  {
   "cell_type": "code",
   "execution_count": 2,
   "id": "9f02fc70",
   "metadata": {},
   "outputs": [
    {
     "name": "stdout",
     "output_type": "stream",
     "text": [
      "/Users/reneehall\n"
     ]
    }
   ],
   "source": [
    "cd ~"
   ]
  },
  {
   "cell_type": "markdown",
   "id": "b7c317be",
   "metadata": {},
   "source": [
    "The '~' symbol is a shortcut to the home directory. This will chance your working directory to your user's home directory. This is where all the files for your user get stored on your computer. \n",
    "\n",
    "Let's take a look at the filepath of our home directory."
   ]
  },
  {
   "cell_type": "code",
   "execution_count": 4,
   "id": "72afb21d",
   "metadata": {},
   "outputs": [
    {
     "data": {
      "text/plain": [
       "'/Users/reneehall'"
      ]
     },
     "execution_count": 4,
     "metadata": {},
     "output_type": "execute_result"
    }
   ],
   "source": [
    "pwd"
   ]
  },
  {
   "cell_type": "markdown",
   "id": "610d6436",
   "metadata": {},
   "source": [
    "Again, let's take a minute to use our regular UI and locate this directory in our finder.\n",
    "\n",
    "While it's great that we can navigate to our home directory, the cd command by itself is very helpful for letting us change the directory of our terminal to other locations.\n",
    "\n",
    "By adding a filepath after the cd command we can specify exactly which directory we want to switch to. \n",
    "\n",
    "*Point out the Documents folder that is in the home directory*\n",
    "\n",
    "Let's navigate to this directory in our terminals."
   ]
  },
  {
   "cell_type": "code",
   "execution_count": 3,
   "id": "02c1cb39",
   "metadata": {},
   "outputs": [
    {
     "name": "stdout",
     "output_type": "stream",
     "text": [
      "[Errno 2] No such file or directory: 'folder_name'\n",
      "/Users/reneehall\n"
     ]
    }
   ],
   "source": [
    "cd Documents"
   ]
  },
  {
   "cell_type": "markdown",
   "id": "5df87f7c",
   "metadata": {},
   "source": [
    "Notice how your command prompt updates to display the new folder you are in. \n",
    "\n",
    "Let's go back to our home directory"
   ]
  },
  {
   "cell_type": "code",
   "execution_count": 1,
   "id": "87997a61",
   "metadata": {},
   "outputs": [
    {
     "name": "stdout",
     "output_type": "stream",
     "text": [
      "/Users/reneehall\n"
     ]
    }
   ],
   "source": [
    "cd ~"
   ]
  },
  {
   "cell_type": "markdown",
   "id": "a013cc06",
   "metadata": {},
   "source": [
    "What if we want to navigate further into our file structure, for example up two or three levels?\n",
    "\n",
    "In this case we can use the relative filepath. In other words, the path for the computer to follow to get from folder A to folder B. \n",
    "\n",
    "*Get the students to manually create a new folder in their Documents folder called test_folder*\n",
    "\n",
    "So let's build a cd command with a filepath that let's us change our working directory from our home directory to test_folder. \n",
    "\n",
    "We need to start with the cd command.\n",
    "<br>*Type \"cd\" into terminal*\n",
    "\n",
    "Then we add the filepath as an argument. An argument is an additional piece of information for the command to take into accout. Arguments are separated from their command using a space. \n",
    "\n",
    "From our home directory we need to first go into the `Documents` directory, so let's add that to our filepath. \n",
    "<br>*Type `Documents` into terminal*\n",
    "\n",
    "From `Documents` we need to go into `test_folder`. Before we can add it to our filepath we need to seperate it from `Documents` with a `\\`.\n",
    "**Note:** The direction of the slash changes depending on the computer you are using.\n",
    "<br>*Type `\\` into terminal*\n",
    "\n",
    "And now we can add the `test_folder` to our filepath.\n",
    "<br>*Type `test_folder` into terminal*\n",
    "\n",
    "Great. So, remember our current working directory is our home directory, and when we execute this command, our working directory will change to `test_folder`"
   ]
  },
  {
   "cell_type": "code",
   "execution_count": null,
   "id": "d37ca973",
   "metadata": {},
   "outputs": [],
   "source": [
    "cd Documents\\test_folder"
   ]
  },
  {
   "cell_type": "markdown",
   "id": "5e1615ca",
   "metadata": {},
   "source": [
    "Note that our command prompt has updated to `test_folder`. We can confirm where we are using the pwd command"
   ]
  },
  {
   "cell_type": "code",
   "execution_count": null,
   "id": "7109b6b2",
   "metadata": {},
   "outputs": [],
   "source": [
    "pwd"
   ]
  },
  {
   "cell_type": "markdown",
   "id": "074ff238",
   "metadata": {},
   "source": [
    "There's a nice shortcut that I want to show you. If we want to go back to the 'parent' directory, the directory that we just came from and that the working directory is located in, we can use '..' as the argument."
   ]
  },
  {
   "cell_type": "code",
   "execution_count": null,
   "id": "205447f5",
   "metadata": {},
   "outputs": [],
   "source": [
    "cd .."
   ]
  },
  {
   "cell_type": "markdown",
   "id": "206a995a",
   "metadata": {},
   "source": [
    "Now we're back in the `Documents` directory.\n",
    "\n",
    "If we go up one more level, we are back in our home directory."
   ]
  },
  {
   "cell_type": "code",
   "execution_count": null,
   "id": "f9832747-f96c-4c7d-8fcc-088a2a369a5c",
   "metadata": {},
   "outputs": [],
   "source": [
    "cd .."
   ]
  },
  {
   "cell_type": "markdown",
   "id": "facffeef",
   "metadata": {},
   "source": [
    "#### ls\n",
    "ls stands for \"list\". It lets you see what files and folders are in a directory. \n",
    "\n",
    "What do you think we will see if we run ls in our terminal?"
   ]
  },
  {
   "cell_type": "code",
   "execution_count": 1,
   "id": "2b13ca8a",
   "metadata": {},
   "outputs": [
    {
     "name": "stdout",
     "output_type": "stream",
     "text": [
      "Connection steps.docx                  terminal_tutorial.ipynb\n",
      "Ross_Dickson_Meeting_Nov_26_2024.docx\n"
     ]
    }
   ],
   "source": [
    "ls"
   ]
  },
  {
   "cell_type": "markdown",
   "id": "438ebe36",
   "metadata": {},
   "source": [
    "If we type \"ls\" in our terminal, it will show us the files and folders in our working directory.\n",
    "\n",
    "If we compare this to the files we see in the UI of our working directory we can see that they match.\n",
    "\n",
    "Now we know how to tell which directory we're in, how to change directories, and how to see what is in our directory. But bash are very powerful, and most of the tasks you can complete with your mouse in the UI can be done using a bash command. For example, making folders and files. "
   ]
  },
  {
   "cell_type": "markdown",
   "id": "99c23a93",
   "metadata": {},
   "source": [
    "#### mkdir\n",
    "\n",
    "So we've probably all created a new folder before. There are a few ways to do it. \n",
    "\n",
    "Earlier, we used the computer's user interface to create a new folder.\n",
    "\n",
    "We can also easily delete a folder using the regular user interface.\n",
    "\n",
    "*Delete the folder using the UI*\n",
    "\n",
    "These are actions we can also take using the command line. \n",
    "\n",
    "First, let's try making a directory using the mkdir command, which stands for \"make directory\".\n",
    "\n",
    "All we have to do is type the mkdir command with the name of the folder we want to make as the argument.\n",
    "\n",
    "Let's do this in our `Documents` folder."
   ]
  },
  {
   "cell_type": "code",
   "execution_count": null,
   "id": "5a4741c9-fc4a-4002-8de2-ee9d635f5d0c",
   "metadata": {},
   "outputs": [],
   "source": [
    "cd Documents"
   ]
  },
  {
   "cell_type": "code",
   "execution_count": 7,
   "id": "91d3335f",
   "metadata": {},
   "outputs": [],
   "source": [
    "mkdir new_folder"
   ]
  },
  {
   "cell_type": "markdown",
   "id": "3310b8f9",
   "metadata": {},
   "source": [
    "Let's double check that that worked using the ls command"
   ]
  },
  {
   "cell_type": "code",
   "execution_count": 8,
   "id": "e776524b",
   "metadata": {
    "collapsed": true,
    "jupyter": {
     "outputs_hidden": true
    }
   },
   "outputs": [
    {
     "name": "stdout",
     "output_type": "stream",
     "text": [
      "\u001b[34mApplications\u001b[m\u001b[m/                    \u001b[34mVirtualBox VMs\u001b[m\u001b[m/\n",
      "\u001b[34mDesktop\u001b[m\u001b[m/                         \u001b[34mairflow\u001b[m\u001b[m/\n",
      "\u001b[34mDocuments\u001b[m\u001b[m/                       done\n",
      "\u001b[34mDownloads\u001b[m\u001b[m/                       \u001b[34mgetting-started\u001b[m\u001b[m/\n",
      "\u001b[34mLibrary\u001b[m\u001b[m/                         \u001b[34mlhl_exercises\u001b[m\u001b[m/\n",
      "\u001b[34mMovies\u001b[m\u001b[m/                          matlab_crash_dump.40123-1\n",
      "\u001b[34mMusic\u001b[m\u001b[m/                           \u001b[34mnew_folder\u001b[m\u001b[m/\n",
      "\u001b[35mOneDrive - Dalhousie University\u001b[m\u001b[m@ \u001b[34mnltk_data\u001b[m\u001b[m/\n",
      "\u001b[34mPictures\u001b[m\u001b[m/                        \u001b[34mopt\u001b[m\u001b[m/\n",
      "\u001b[34mPostman\u001b[m\u001b[m/                         \u001b[34mscikit_learn_data\u001b[m\u001b[m/\n",
      "\u001b[34mPublic\u001b[m\u001b[m/                          \u001b[34mseaborn-data\u001b[m\u001b[m/\n",
      "\u001b[34mSQL\u001b[m\u001b[m/                             \u001b[34msessionmanager-bundle\u001b[m\u001b[m/\n",
      "\u001b[34mSites\u001b[m\u001b[m/                           sessionmanager-bundle.zip\n",
      "Untitled.ipynb                   sqlite-jdbc-3.34.0.jar\n",
      "\u001b[34mUsers\u001b[m\u001b[m/\n"
     ]
    }
   ],
   "source": [
    "ls"
   ]
  },
  {
   "cell_type": "markdown",
   "id": "b33b82e3",
   "metadata": {},
   "source": [
    "We can see our new folder. And if we look in the UI, we can see our new folder there.\n",
    "\n",
    "Let's navigate into our new folder"
   ]
  },
  {
   "cell_type": "code",
   "execution_count": null,
   "id": "33835b0a",
   "metadata": {},
   "outputs": [],
   "source": [
    "cd new_folder"
   ]
  },
  {
   "cell_type": "markdown",
   "id": "e5e165ec",
   "metadata": {},
   "source": [
    "What do you think we'll see if we run the ls command?"
   ]
  },
  {
   "cell_type": "code",
   "execution_count": null,
   "id": "5f7168ef",
   "metadata": {},
   "outputs": [],
   "source": [
    "ls"
   ]
  },
  {
   "cell_type": "markdown",
   "id": "83ae4dc4",
   "metadata": {},
   "source": [
    "That's right, nothing shows up because we don't have any files or folders in this directory."
   ]
  },
  {
   "cell_type": "markdown",
   "id": "80dbbe49",
   "metadata": {},
   "source": [
    "#### touch\n",
    "\n",
    "Let's create a new text file in our new folder using the command line.\n",
    "\n",
    "We can use the ni command for this, which stands for \"New Item\". The name of the new file we want to create is the argument of the command. Unlike the mkdir command, we also need to specify a file type for our new file using a file extension. This tells touch what kind of file to create. For example, a Word document has a .doc file extension, and image is .png, and an Excel file is .xlsx. The file extension for a text file is .txt"
   ]
  },
  {
   "cell_type": "code",
   "execution_count": null,
   "id": "a2c2146c",
   "metadata": {},
   "outputs": [],
   "source": [
    "ni new_file.txt"
   ]
  },
  {
   "cell_type": "markdown",
   "id": "a53eba5a",
   "metadata": {},
   "source": [
    "*In a Linux or Unix system the command would be `touch new_file.txt`\n",
    "\n",
    "If we use the ls command we can see that the new file is in our folder."
   ]
  },
  {
   "cell_type": "code",
   "execution_count": null,
   "id": "cce557da",
   "metadata": {},
   "outputs": [],
   "source": [
    "ls"
   ]
  },
  {
   "cell_type": "markdown",
   "id": "a8321e77",
   "metadata": {},
   "source": [
    "And, if we use the UI to open the file, we can see that it's empty. This is because we created the file, but haven't added anything to it yet."
   ]
  },
  {
   "cell_type": "markdown",
   "id": "03406695",
   "metadata": {},
   "source": [
    "#### Practice Activity"
   ]
  },
  {
   "cell_type": "markdown",
   "id": "ff475e22",
   "metadata": {},
   "source": [
    "Now we're going to have a quick 10 minute activity.\n",
    "\n",
    "Using ONLY the command line:\n",
    "1. Navigate to your user's Documents folder\n",
    "2. Create a new directory called YourName_folder\n",
    "3. In YourName_folder, create a new text file called YourName_file.txt\n",
    "\n",
    "Bonus! If you finish all that and have time, using only the command line:\n",
    "\n",
    "4. Add the following text to YourName_file.txt, \"Hello World!\"\n",
    "5. Delete YourName_file.txt\n",
    "\n",
    "**Hint:** Google is your friend! There are a lot of great resources online. Don't be afraid to search for help."
   ]
  }
 ],
 "metadata": {
  "kernelspec": {
   "display_name": "Python 3 (ipykernel)",
   "language": "python",
   "name": "python3"
  },
  "language_info": {
   "codemirror_mode": {
    "name": "ipython",
    "version": 3
   },
   "file_extension": ".py",
   "mimetype": "text/x-python",
   "name": "python",
   "nbconvert_exporter": "python",
   "pygments_lexer": "ipython3",
   "version": "3.13.0"
  }
 },
 "nbformat": 4,
 "nbformat_minor": 5
}
