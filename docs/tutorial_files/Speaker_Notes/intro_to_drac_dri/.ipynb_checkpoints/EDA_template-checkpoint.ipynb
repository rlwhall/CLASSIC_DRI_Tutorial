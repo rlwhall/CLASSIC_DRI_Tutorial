{
 "cells": [
  {
   "cell_type": "markdown",
   "id": "087e6e54-502a-4b38-bf67-a94bf4605b4d",
   "metadata": {},
   "source": [
    "## CLASSIC Output Exploration Using Python"
   ]
  },
  {
   "cell_type": "markdown",
   "id": "236b02af-71b6-46be-91f0-3ba11c7fcb0c",
   "metadata": {},
   "source": [
    "#### Get familiar with Jupyter Notebooks"
   ]
  },
  {
   "cell_type": "code",
   "execution_count": null,
   "id": "d8f22894-afe0-473f-a432-404e0a4c84ac",
   "metadata": {},
   "outputs": [],
   "source": [
    "1+1"
   ]
  },
  {
   "cell_type": "code",
   "execution_count": null,
   "id": "04032a41-d84c-454d-b1b8-fe741ce2369e",
   "metadata": {},
   "outputs": [],
   "source": [
    "'hot' + 'dog'"
   ]
  },
  {
   "cell_type": "code",
   "execution_count": null,
   "id": "722c1937-3aa1-4619-8054-5fa3d2ee1a62",
   "metadata": {},
   "outputs": [],
   "source": [
    "name = input(\"What is your name?\")"
   ]
  },
  {
   "cell_type": "code",
   "execution_count": null,
   "id": "2359ce78-866a-4572-9227-cbdfde72b53b",
   "metadata": {},
   "outputs": [],
   "source": [
    "print(f\"Alright {name}, let's take a look at what CLASSIC can do!\")"
   ]
  },
  {
   "cell_type": "markdown",
   "id": "0143d963-f160-457b-9ff6-ff6c8f6d202d",
   "metadata": {},
   "source": [
    "#### Add system pathway"
   ]
  },
  {
   "cell_type": "code",
   "execution_count": null,
   "id": "483f03ef-1232-4690-9247-f8a75eb956d2",
   "metadata": {},
   "outputs": [],
   "source": [
    "# get the installation location of the xarray package\n",
    "loc = !pip show xarray "
   ]
  },
  {
   "cell_type": "code",
   "execution_count": null,
   "id": "428189b1-d573-479a-8e79-68a665371198",
   "metadata": {},
   "outputs": [],
   "source": [
    "# add the location of the xarray package to system filepaths\n",
    "import sys\n",
    "sys.path.append(loc[7][10:])"
   ]
  },
  {
   "cell_type": "markdown",
   "id": "b5aeac89-efbc-4534-8b72-73a0c3e1c36e",
   "metadata": {},
   "source": [
    "#### Load Packages"
   ]
  },
  {
   "cell_type": "code",
   "execution_count": null,
   "id": "069a6656-4b5d-46bc-bca1-efc270c06d4e",
   "metadata": {},
   "outputs": [],
   "source": [
    "import xarray as xr\n",
    "import pandas as pd\n",
    "import matplotlib.pyplot as plt\n",
    "import datetime as dt"
   ]
  },
  {
   "cell_type": "code",
   "execution_count": null,
   "id": "25953b92-d2b6-4175-ab7a-6b6f1413cd2c",
   "metadata": {},
   "outputs": [],
   "source": [
    "import warnings\n",
    "# ignore warnings\n",
    "warnings.filterwarnings('ignore') "
   ]
  },
  {
   "cell_type": "markdown",
   "id": "28564739-0adb-4c42-9b94-d332ada17c2b",
   "metadata": {},
   "source": [
    "#### Load Data"
   ]
  },
  {
   "cell_type": "code",
   "execution_count": null,
   "id": "6a8a9ca3-6782-4f5c-8682-75e79dfdd5c8",
   "metadata": {},
   "outputs": [],
   "source": [
    "user_name = 'user01'"
   ]
  },
  {
   "cell_type": "code",
   "execution_count": null,
   "id": "651a0928-a5c2-45ce-9264-e012c0177250",
   "metadata": {},
   "outputs": [],
   "source": [
    "# Load model output NEP dataset \n",
    "nep_ds = xr.open_dataset('netcdf_files/nep_monthly.nc')"
   ]
  },
  {
   "cell_type": "code",
   "execution_count": null,
   "id": "80403c69-4cbe-4635-87d5-3c44943a3753",
   "metadata": {},
   "outputs": [],
   "source": [
    "# Load observational NEE dataset\n",
    "obs_nee = pd.read_csv('/home/'+user_name+'/projects/def-sponsor00/ARC_for_EESC/observationalDataFLUXNET/nee_monthly_fluxnet.csv')\n",
    "# Select only the FLUXNET site that we're interested in, CA-Gro\n",
    "gro_nee = obs_nee[obs_nee.sitename == 'CA-Gro'].copy()"
   ]
  },
  {
   "cell_type": "code",
   "execution_count": null,
   "id": "139948cb-af7a-408f-bae4-d09e5c1b5104",
   "metadata": {
    "scrolled": true
   },
   "outputs": [],
   "source": [
    "# Look at the CLASSIC dataset\n",
    "nep_ds"
   ]
  },
  {
   "cell_type": "code",
   "execution_count": null,
   "id": "620b8bd9-f78b-4705-b608-0bca5a3923b2",
   "metadata": {},
   "outputs": [],
   "source": [
    "# Look at the observational dataset\n",
    "gro_nee.head(20)"
   ]
  },
  {
   "cell_type": "markdown",
   "id": "c640300d-aaa8-422e-b9e4-97076dc5df9a",
   "metadata": {},
   "source": [
    "### Plot Data"
   ]
  },
  {
   "cell_type": "code",
   "execution_count": null,
   "id": "c57057a2-eef9-488d-ae2d-2f0562dc4465",
   "metadata": {},
   "outputs": [],
   "source": [
    "# Plot the CLASSIC dataset\n",
    "plt.plot(nep_ds.indexes['time'].to_datetimeindex(), nep_ds.nep.values.reshape(nep_ds.nep.shape[0],))\n",
    "plt.xlabel('Date')\n",
    "plt.ylabel('Net Ecosystem Productivity (NEP) (kg m^-2/s)')\n",
    "plt.plot()"
   ]
  },
  {
   "cell_type": "code",
   "execution_count": null,
   "id": "221cdac7-7c32-4bfc-8d0d-de588458a1ae",
   "metadata": {},
   "outputs": [],
   "source": [
    "# Plot the observational dataset\n",
    "\n",
    "# Adjust time column to datetime datatype\n",
    "date_format = '%Y-%m-%d %H:%M:%S'\n",
    "gro_nee['time'] = pd.to_datetime(gro_nee['time'], format=date_format)\n",
    "\n",
    "# Plot\n",
    "plt.plot(gro_nee.time, gro_nee.nee)\n",
    "plt.xlabel('Date')\n",
    "plt.ylabel('Net Ecosystem Exchange (NEE) (kg m^-2/s)')\n",
    "plt.plot()"
   ]
  },
  {
   "cell_type": "code",
   "execution_count": null,
   "id": "c824710e-a08a-4977-9a88-22002592c0c5",
   "metadata": {},
   "outputs": [],
   "source": [
    "# Plot together\n",
    "plt.plot(gro_nee.time, (gro_nee.nee*-1), label='Observed', color='r')\n",
    "plt.plot(nep_ds.indexes['time'].to_datetimeindex(), nep_ds.nep.values.reshape(nep_ds.nep.shape[0],), label='Predicted')\n",
    "# Add line at the start of each year\n",
    "jans = gro_nee[gro_nee.time.dt.month==1].time\n",
    "for jan in jans:\n",
    "    plt.axvline(jan, color='y', linestyle='dotted')\n",
    "# Add axis titles\n",
    "plt.xlabel('Date')\n",
    "plt.ylabel('Annual Net Ecosystem Productivity (NEP) (kg m^-2/s)')\n",
    "# Add legend\n",
    "plt.legend(loc='upper left')\n",
    "\n",
    "plt.show"
   ]
  },
  {
   "cell_type": "markdown",
   "id": "0b9aa509-4875-4514-b8f5-6125fc36eab9",
   "metadata": {},
   "source": [
    "### Your turn!"
   ]
  },
  {
   "cell_type": "markdown",
   "id": "be357a3c-3e93-42d3-bd34-b570f0c6103e",
   "metadata": {},
   "source": [
    "Pick another observational dataset to compare to CLASSIC's output.\n",
    "\n",
    "The available datasets are:\n",
    "- GPP\n",
    "    - Gross primary productivity.\n",
    "- RECO\n",
    "    - Ecosystem respiration.\n",
    "- RNS\n",
    "\n",
    "- HFLS\n",
    "    - Surface upward latent heat flux\" data, which essentially measures the amount of heat transferred from the Earth's surface to the atmosphere through the evaporation of water."
   ]
  },
  {
   "cell_type": "code",
   "execution_count": null,
   "id": "22b6c858-2a5c-43ab-bba0-78e1d624f1e7",
   "metadata": {},
   "outputs": [],
   "source": [
    "# Load your observational dataset\n",
    "obs = pd.read_csv('/home/'+user_name+'/projects/def-sponsor00/ARC_for_EESC/observationalDataFLUXNET/nee_monthly_fluxnet.csv')\n",
    "# Select only the FLUXNET site that we're interested in, CA-Gro\n",
    "gro = obs_nee[obs_nee.sitename == 'CA-Gro'].copy()\n",
    "# Adjust time column to datetime datatype\n",
    "date_format = '%Y-%m-%d %H:%M:%S'\n",
    "gro['time'] = pd.to_datetime(gro['time'], format=date_format)"
   ]
  },
  {
   "cell_type": "code",
   "execution_count": null,
   "id": "5737f840-9187-4f3e-a3a1-c2e17a082780",
   "metadata": {},
   "outputs": [],
   "source": [
    "# Find an appropriate CLASSIC dataset which matches the observational dataset\n",
    "ds = xr.open_dataset('netcdf_files/nep_monthly.nc')\n",
    "ds"
   ]
  },
  {
   "cell_type": "code",
   "execution_count": null,
   "id": "9260bb51-77cb-4751-a943-706548aa8f29",
   "metadata": {},
   "outputs": [],
   "source": [
    "# Plot the observed and predicted values together\n",
    "observed_var_short_name = 'nee'\n",
    "predicted_var_short_name = 'nep'\n",
    "\n",
    "plt.plot(gro.time, gro[observed_var_short_name], label='Observed', color='r')\n",
    "plt.plot(ds.indexes['time'].to_datetimeindex(), ds[predicted_var_short_name].values.reshape(ds[predicted_var_short_name].shape[0],), label='Predicted')\n",
    "\n",
    "# Add line at the start of each year\n",
    "jans = gro[gro.time.dt.month==1].time\n",
    "for jan in jans:\n",
    "    plt.axvline(jan, color='y', linestyle='dotted')\n",
    "    \n",
    "# Add axis titles\n",
    "plt.xlabel('Date')\n",
    "plt.ylabel('')\n",
    "\n",
    "# Add legend\n",
    "plt.legend(loc='upper left')\n",
    "\n",
    "plt.show"
   ]
  },
  {
   "cell_type": "code",
   "execution_count": null,
   "id": "6cb962c1-5933-463c-89a2-53bfc67cc709",
   "metadata": {},
   "outputs": [],
   "source": []
  }
 ],
 "metadata": {
  "kernelspec": {
   "display_name": "Python 3 (ipykernel)",
   "language": "python",
   "name": "python3"
  },
  "language_info": {
   "codemirror_mode": {
    "name": "ipython",
    "version": 3
   },
   "file_extension": ".py",
   "mimetype": "text/x-python",
   "name": "python",
   "nbconvert_exporter": "python",
   "pygments_lexer": "ipython3",
   "version": "3.13.0"
  }
 },
 "nbformat": 4,
 "nbformat_minor": 5
}
