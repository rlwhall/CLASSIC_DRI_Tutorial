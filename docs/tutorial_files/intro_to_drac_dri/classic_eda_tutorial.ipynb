{
 "cells": [
  {
   "cell_type": "markdown",
   "id": "f3ac051e",
   "metadata": {},
   "source": [
    "# CLASSIC Exploratory Data Analysis Tutorial"
   ]
  },
  {
   "cell_type": "markdown",
   "id": "600374e8",
   "metadata": {},
   "source": [
    "### Overview for Faciliator\n",
    "\n",
    "Speaking notes for Introduction to Alliance Digital Research Infrastructure (DRI) with workshop participants. Learners should already be familiar with the CLASSIC model and its basic structure and inputs, will have been introduced to the JupyterHub interface, although they have not yet interacted with a Jupyter Notebook. This session will introduce learners to Jupyter Notebooks, and do some exploratory data analysis of CLASSIC model outputs\n",
    "\n",
    "Instructions for the facilitator are italicized. Code sections indicate commands that the facilitator should enter and execute in their own terminal.\n",
    "\n",
    "**Note:** This tutorial was designed for use on a Magic Castle virtual cluster."
   ]
  },
  {
   "cell_type": "markdown",
   "id": "69cabcb2",
   "metadata": {},
   "source": [
    "### Checking job status\n",
    "\n",
    "*Participants will have previously submitted a job to slurm to run CLASSIC, before taking a short break. They need to check the status of their job and make sure it ran successfully*\n",
    "\n",
    "First, let's check the status of our slurm job. "
   ]
  },
  {
   "cell_type": "code",
   "execution_count": null,
   "id": "5acd2330-9dd6-40e7-9be8-81335d99e7bf",
   "metadata": {},
   "outputs": [],
   "source": [
    "sq"
   ]
  },
  {
   "cell_type": "markdown",
   "id": "cb4934fb-2785-441b-98d1-9336bb0ed520",
   "metadata": {},
   "source": [
    "If you don't see any jobs listed, this means your job is no longer active. This doesn't necessarily mean that it ran successfully, but that it is simply no longer running.\n",
    "\n",
    "*Confirm that everyone's job has finished running*\n",
    "\n",
    "Now, we need to confirm that the job actually ran successfully and didn't stop running because of an error. Every time a slurm job finishes running, it returns an output file with outputs from the computer, and if there are any errors we'll see them here.\n",
    "\n",
    "The output file will be in the folder you submitted the slurm job from, which should be your user's personal folder.\n",
    "The output file will have a format like\n",
    "`123456789_output`\n",
    "The numbers are your job id. \n",
    "\n",
    "Let's double-click on the file to open it up. \n",
    "\n",
    "*Open your own job file and show students what it looks like. Point out the 10 years of output. Confirm with all the students that their file looks like this.*"
   ]
  },
  {
   "cell_type": "markdown",
   "id": "a1e7c32b",
   "metadata": {},
   "source": [
    "### Checking output folder"
   ]
  },
  {
   "cell_type": "markdown",
   "id": "797208f2",
   "metadata": {},
   "source": [
    "*Participants will have previously created a folder for the model outputs, `netcdf_files`*\n",
    "<br>*Get everyone to open the folder, where they can see it's now full of a bunch of files*\n",
    "\n",
    "Each file is the output of CLASSIC for a specific variable. For example, gross primary productivity, leaf area index, or carbon stored in plant stems. \n",
    "\n",
    "Each of these files has all the predictions CLASSIC made for that specific variable for each time step while it was running, and we can compare the CLASSIC predictions for this variable to the observed values from the FLUXNET site."
   ]
  },
  {
   "cell_type": "markdown",
   "id": "400ea080",
   "metadata": {},
   "source": [
    "### Introduction to Jupyter Notebook\n",
    "\n",
    "JupyterLab has a special kind of file called a Jupyter Notebook, and we're going to be using this to explore the outputs from CLASSIC. \n",
    "\n",
    "We're going to be using a programming language called Python to look at the results from CLASSIC, and I've created a template for you all to follow to make the programming part more straightforward. \n",
    "\n",
    "There's a file in `ARC_for_EESC` called `EDA_template`. You're going to make a **COPY** of this file. And add it to your user folder.\n",
    "\n",
    "*Show them how to make a copy, and add it to your user folder*\n",
    "\n",
    "Let's rename to file so that it's personalized, `EDA_yourname`. \n",
    "\n",
    "Before we start looking at CLASSIC's outputs, lets get familiar with Jupyter Notebooks. So go ahead and double click on the file to open it. \n",
    "\n",
    "*Open up your copy of EDA_template and run the code blocks as necessary to explain concepts or follow along with students.*\n",
    "\n",
    "Jupyter Notebooks is a special programming environment that lets you run pieces of code, and immediately see the output of that code.\n",
    "\n",
    "If we select a cell, it is highlighted in blue. \n",
    "\n",
    "***Concepts to Cover***\n",
    "*Point out the difference between a markdown cell and a code cell*\n",
    "<br>*Show how you can shift which cell you've selected using the mouse or the up and down arrows*\n",
    "<br>*Show them how they can run a cell using the play button at the top of the page*\n",
    "<br>*Show them how they can run a cell by pressing Shift+Enter*\n",
    "<br>*Point out the difference between the code cell, and the output from that code cell*\n",
    "<br>*Point out how different parts of the code are highlighted in different colours to distinguish them*"
   ]
  },
  {
   "cell_type": "markdown",
   "id": "8b09871b",
   "metadata": {},
   "source": [
    "#### Introduction to NetCDF files"
   ]
  },
  {
   "cell_type": "markdown",
   "id": "5dfdb2d1",
   "metadata": {},
   "source": [
    "A NetCDF file organizes data with respect to time and space, and is the standard output format for climate models. Another useful feature of NetCDF files is they often have a lot of information built into them. \n",
    "\n",
    "*Get students to load the NetCDF NEE file, and look at the output of it*\n",
    "<br>*Show students how they can interact with the output to see what the different categories contain*\n",
    "<br>*Open a second NetCDF file, and get them to see how the variable description is different*"
   ]
  },
  {
   "cell_type": "markdown",
   "id": "382dd654-9a1c-4e37-a997-74119e3c5ad2",
   "metadata": {},
   "source": [
    "#### Exploring CLASSIC Output Data\n",
    "\n",
    "*Follow the `EDA_template` file to load CLASSIC and NetCDF files, and compare the simulated and observed data.*\n",
    "\n",
    "*Take some time to describe what each plot is showing, and examine how CLASSIC is performing in relation to the observational data. Describe some reasons why CLASSIC may not match observational data (ex. spatial resolution, representation of plant functional types)*"
   ]
  },
  {
   "cell_type": "code",
   "execution_count": null,
   "id": "ac93e7c0-0a7d-408c-8c9b-bcee4756843b",
   "metadata": {},
   "outputs": [],
   "source": []
  }
 ],
 "metadata": {
  "kernelspec": {
   "display_name": "Python 3 (ipykernel)",
   "language": "python",
   "name": "python3"
  },
  "language_info": {
   "codemirror_mode": {
    "name": "ipython",
    "version": 3
   },
   "file_extension": ".py",
   "mimetype": "text/x-python",
   "name": "python",
   "nbconvert_exporter": "python",
   "pygments_lexer": "ipython3",
   "version": "3.13.0"
  }
 },
 "nbformat": 4,
 "nbformat_minor": 5
}
