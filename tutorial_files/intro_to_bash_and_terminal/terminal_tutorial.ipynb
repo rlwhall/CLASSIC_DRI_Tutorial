{
 "cells": [
  {
   "cell_type": "markdown",
   "metadata": {},
   "source": [
    "# Facilitator Speaking Notes\n",
    "\n",
    "### Overview for Facilitator\n",
    "Speaking notes for an Introduction to Bash session with workshop participants. Learners should already be familiar with what the concept of a terminal is. This session will give learners a feel for navigating a computer using the command line, to help conceptualize connecting to a remote machine. Important for students to build intuition for navigating through a computer using the command line.\n",
    "\n",
    "Instructions for the facilitator are italicized. Code sections indicate commands that the facilitator should enter and execute in their own terminal.\n",
    "\n",
    "**Note:** This tutorial was designed for use on a Windows OS. It may need to be adjusted for use on a different operating system"
   ]
  },
  {
   "cell_type": "markdown",
   "metadata": {},
   "source": [
    "### Introduction\n",
    "\n",
    "#### Opening the terminal\n",
    "*Demonstrate how to navigate to and open the terminal.*\n",
    "<br>*Prompt learners to open the terminal on their own computer.*\n",
    "<br>*Learners will follow along during this tutorial, entering commands into their terminal.*"
   ]
  },
  {
   "cell_type": "markdown",
   "metadata": {},
   "source": [
    "#### pwd\n",
    "pwd stands for \"print working directory\". It lets you see where the terminal currently is in the computer."
   ]
  },
  {
   "cell_type": "code",
   "execution_count": 1,
   "metadata": {},
   "outputs": [
    {
     "data": {
      "text/plain": [
       "'/Users/reneehall/Documents/Learning/Dalhousie/Grants/DRAC EDIA Champions/work'"
      ]
     },
     "execution_count": 1,
     "metadata": {},
     "output_type": "execute_result"
    }
   ],
   "source": [
    "pwd"
   ]
  },
  {
   "cell_type": "markdown",
   "metadata": {},
   "source": [
    "The working directory is the file directory that your computer is looking in when executing commands, such as creating or editing documents. \n",
    "\n",
    "This is a real directory on your computer that we can find outside of the terminal using the computers regular user interface. So let's find where in our file system our working directory is. The pwd command actually a filepath, which gives you a map of where on your directory is. \n",
    "\n",
    "*Open the file finder in the UI and go through the directory tree until you get to your working directory*\n",
    "\n",
    "It's helpful to think of your computers file systems as have a nested structure, like a nesting doll.\n",
    "\n",
    "*Draw a nesting doll on the whiteboard and explain how each directory is a container where more directories can be stored.*\n",
    "\n",
    "Notice that the name or your working directory appears beside your command prompt. This is a helpful visual reminder of which directory you are currently in.\n",
    "\n",
    "What happens if we want to change the directory that we are pointing to in the terminal? For that we can use the cd command."
   ]
  },
  {
   "cell_type": "markdown",
   "metadata": {},
   "source": [
    "#### cd\n",
    "The cd command lets us change the directory that we are in. cd stands for \"current directory\". By itself, the cd command isn't too helpful. "
   ]
  },
  {
   "cell_type": "code",
   "execution_count": 2,
   "metadata": {},
   "outputs": [
    {
     "name": "stdout",
     "output_type": "stream",
     "text": [
      "/Users/reneehall\n"
     ]
    }
   ],
   "source": [
    "cd"
   ]
  },
  {
   "cell_type": "markdown",
   "metadata": {},
   "source": [
    "This will chance your working directory to your user's home directory. This is where all the files for your user get stored on your computer. \n",
    "\n",
    "Let's take a look at the filepath of our home directory."
   ]
  },
  {
   "cell_type": "code",
   "execution_count": 4,
   "metadata": {},
   "outputs": [
    {
     "data": {
      "text/plain": [
       "'/Users/reneehall'"
      ]
     },
     "execution_count": 4,
     "metadata": {},
     "output_type": "execute_result"
    }
   ],
   "source": [
    "pwd"
   ]
  },
  {
   "cell_type": "markdown",
   "metadata": {},
   "source": [
    "Again, let's take a minute to use our regular UI and locate this directory in our finder.\n",
    "\n",
    "While it's great that we can navigate to our home directory, the cd command by itself is very helpful for letting us change the directory of our terminal to other locations.\n",
    "\n",
    "By adding a filepath after the cd command we can specify exactly which directory we want to switch to. \n",
    "\n",
    "<mark>*Point out a folder that is in the home directory*</mark>\n",
    "\n",
    "Let's navigate to this directory in our terminals."
   ]
  },
  {
   "cell_type": "code",
   "execution_count": 3,
   "metadata": {},
   "outputs": [
    {
     "name": "stdout",
     "output_type": "stream",
     "text": [
      "[Errno 2] No such file or directory: 'folder_name'\n",
      "/Users/reneehall\n"
     ]
    }
   ],
   "source": [
    "cd folder_name"
   ]
  },
  {
   "cell_type": "markdown",
   "metadata": {},
   "source": [
    "Notice how your command prompt updates to display the new folder you are in. \n",
    "\n",
    "Let's go back to our home directory"
   ]
  },
  {
   "cell_type": "code",
   "execution_count": 6,
   "metadata": {},
   "outputs": [
    {
     "name": "stdout",
     "output_type": "stream",
     "text": [
      "/Users/reneehall\n"
     ]
    }
   ],
   "source": [
    "cd"
   ]
  },
  {
   "cell_type": "markdown",
   "metadata": {},
   "source": [
    "What if we want to navigate further into our file structure, for example up two or three levels?\n",
    "\n",
    "In this case we can use the relative filepath. In other words, the path for the computer to follow to get from folder A to folder B\n",
    "\n",
    "<mark>*Pick a folder that is in a sub-directory of folder_name*</mark>\n",
    "\n",
    "So let's build a cd command with a filepath that let's us change our working directory from our home directory to <mark>sub-directory</mark>. \n",
    "\n",
    "We need to start with the cd command.\n",
    "<br>*Type \"cd\" into terminal*\n",
    "\n",
    "Then we add the filepath as an argument. An argument is an additional piece of information for the command to take into accout. Arguments are separated from their command using a space. \n",
    "\n",
    "From our home directory we need to first go into the <mark>folder-name</mark> directory, so let's add that to our filepath. \n",
    "<br>*Type \"folder-name\" into terminal*\n",
    "\n",
    "From <mark>folder-name</mark> we need to go into <mark>sub-directory</mark>. Before we can add it to our filepath we need to seperate it from <mark>folder-name</mark> with a \"/\".\n",
    "<br>*Type \"/\" into terminal*\n",
    "\n",
    "And now we can add the <mark>sub-directory</mark> to our filepath.\n",
    "<br>*Type \"sub-directory\" into terminal*\n",
    "\n",
    "Great. So, remember our current working directory is our home directory, and when we execute this command, our working directory will change to <mark>sub-directory</mark>"
   ]
  },
  {
   "cell_type": "code",
   "execution_count": null,
   "metadata": {},
   "outputs": [],
   "source": [
    "cd folder_name/sub-directory"
   ]
  },
  {
   "cell_type": "markdown",
   "metadata": {},
   "source": [
    "Note that our command prompt has updated to <mark>sub-directory</mark>. We can confirm where we are using the pwd command"
   ]
  },
  {
   "cell_type": "code",
   "execution_count": null,
   "metadata": {},
   "outputs": [],
   "source": [
    "pwd"
   ]
  },
  {
   "cell_type": "markdown",
   "metadata": {},
   "source": [
    "There's a nice shortcut that I want to show you. If we want to go back to the 'parent' directory, the directory that we just came from and that the working directory is located in, we can use '..' as the argument."
   ]
  },
  {
   "cell_type": "code",
   "execution_count": null,
   "metadata": {},
   "outputs": [],
   "source": [
    "cd .."
   ]
  },
  {
   "cell_type": "markdown",
   "metadata": {},
   "source": [
    "Now we're back in the <mark>folder-name</mark> directory."
   ]
  },
  {
   "cell_type": "markdown",
   "metadata": {},
   "source": [
    "#### ls\n",
    "ls stands for \"list\". It lets you see what files and folders are in a directory. \n",
    "\n",
    "What do you think we will see if we run ls in our terminal?"
   ]
  },
  {
   "cell_type": "code",
   "execution_count": 1,
   "metadata": {},
   "outputs": [
    {
     "name": "stdout",
     "output_type": "stream",
     "text": [
      "Connection steps.docx                  terminal_tutorial.ipynb\n",
      "Ross_Dickson_Meeting_Nov_26_2024.docx\n"
     ]
    }
   ],
   "source": [
    "ls"
   ]
  },
  {
   "cell_type": "markdown",
   "metadata": {},
   "source": [
    "If we type \"ls\" in our terminal, it will show us the files and folders in our working directory.\n",
    "\n",
    "If we compare this to the files we see in the UI of our working directory we can see that they match.\n",
    "\n",
    "Now we know how to tell which directory we're in, how to change directories, and how to see what is in our directory. But bash are very powerful, and most of the tasks you can complete with your mouse in the UI can be done using a bash command. For example, making folders and files. "
   ]
  },
  {
   "cell_type": "markdown",
   "metadata": {},
   "source": [
    "#### mkdir\n",
    "\n",
    "So we've probably all created a new folder before. There are a few ways to do it. \n",
    "\n",
    "*Make a new folder using the UI and call it new_folder*\n",
    "\n",
    "We can also easily delete a folder using the regular user interface.\n",
    "\n",
    "*Delete the folder using the UI*\n",
    "\n",
    "These are actions we can also take using the command line. \n",
    "\n",
    "First, let's try making a directory using the mkdir command, which stands for \"make directory\".\n",
    "\n",
    "All we have to do is type the mkdir command with the name of the folder we want to make as the argument."
   ]
  },
  {
   "cell_type": "code",
   "execution_count": 7,
   "metadata": {},
   "outputs": [],
   "source": [
    "mkdir new_folder"
   ]
  },
  {
   "cell_type": "markdown",
   "metadata": {},
   "source": [
    "Let's double check that that worked using the ls command"
   ]
  },
  {
   "cell_type": "code",
   "execution_count": 8,
   "metadata": {
    "collapsed": true,
    "jupyter": {
     "outputs_hidden": true
    }
   },
   "outputs": [
    {
     "name": "stdout",
     "output_type": "stream",
     "text": [
      "\u001b[34mApplications\u001b[m\u001b[m/                    \u001b[34mVirtualBox VMs\u001b[m\u001b[m/\n",
      "\u001b[34mDesktop\u001b[m\u001b[m/                         \u001b[34mairflow\u001b[m\u001b[m/\n",
      "\u001b[34mDocuments\u001b[m\u001b[m/                       done\n",
      "\u001b[34mDownloads\u001b[m\u001b[m/                       \u001b[34mgetting-started\u001b[m\u001b[m/\n",
      "\u001b[34mLibrary\u001b[m\u001b[m/                         \u001b[34mlhl_exercises\u001b[m\u001b[m/\n",
      "\u001b[34mMovies\u001b[m\u001b[m/                          matlab_crash_dump.40123-1\n",
      "\u001b[34mMusic\u001b[m\u001b[m/                           \u001b[34mnew_folder\u001b[m\u001b[m/\n",
      "\u001b[35mOneDrive - Dalhousie University\u001b[m\u001b[m@ \u001b[34mnltk_data\u001b[m\u001b[m/\n",
      "\u001b[34mPictures\u001b[m\u001b[m/                        \u001b[34mopt\u001b[m\u001b[m/\n",
      "\u001b[34mPostman\u001b[m\u001b[m/                         \u001b[34mscikit_learn_data\u001b[m\u001b[m/\n",
      "\u001b[34mPublic\u001b[m\u001b[m/                          \u001b[34mseaborn-data\u001b[m\u001b[m/\n",
      "\u001b[34mSQL\u001b[m\u001b[m/                             \u001b[34msessionmanager-bundle\u001b[m\u001b[m/\n",
      "\u001b[34mSites\u001b[m\u001b[m/                           sessionmanager-bundle.zip\n",
      "Untitled.ipynb                   sqlite-jdbc-3.34.0.jar\n",
      "\u001b[34mUsers\u001b[m\u001b[m/\n"
     ]
    }
   ],
   "source": [
    "ls"
   ]
  },
  {
   "cell_type": "markdown",
   "metadata": {},
   "source": [
    "We can see our new folder. And if we look in the UI, we can see our new folder there.\n",
    "\n",
    "Let's navigate into our new folder"
   ]
  },
  {
   "cell_type": "code",
   "execution_count": null,
   "metadata": {},
   "outputs": [],
   "source": [
    "cd new_folder"
   ]
  },
  {
   "cell_type": "markdown",
   "metadata": {},
   "source": [
    "What do you think we'll see if we run the ls command?"
   ]
  },
  {
   "cell_type": "code",
   "execution_count": null,
   "metadata": {},
   "outputs": [],
   "source": [
    "ls"
   ]
  },
  {
   "cell_type": "markdown",
   "metadata": {},
   "source": [
    "That's right, nothing shows up because we don't have any files or folders in this directory."
   ]
  },
  {
   "cell_type": "markdown",
   "metadata": {},
   "source": [
    "#### touch\n",
    "\n",
    "Let's create a new text file in our new folder using the command line.\n",
    "\n",
    "We can use the touch command for this. The name of the new file we want to create is the argument of the command. Unlike the mkdir command, we also need to specify a file type for our new file using a file extension. This tells touch what kind of file to create. For example, a Word document has a .doc file extension, and image is .png, and an Excel file is .xlsx. The file extension for a text file is .txt"
   ]
  },
  {
   "cell_type": "code",
   "execution_count": null,
   "metadata": {},
   "outputs": [],
   "source": [
    "touch new_file.txt"
   ]
  },
  {
   "cell_type": "markdown",
   "metadata": {},
   "source": [
    "If we use the ls command we can see that the new file is in our folder."
   ]
  },
  {
   "cell_type": "code",
   "execution_count": null,
   "metadata": {},
   "outputs": [],
   "source": [
    "ls"
   ]
  },
  {
   "cell_type": "markdown",
   "metadata": {},
   "source": [
    "And, if we use the UI to open the file, we can see that it's empty. This is because we created the file, but haven't added anything to it yet."
   ]
  },
  {
   "cell_type": "markdown",
   "metadata": {},
   "source": [
    "#### Practice Activity"
   ]
  },
  {
   "cell_type": "markdown",
   "metadata": {},
   "source": [
    "Now we're going to have a quick 10 minute activity.\n",
    "\n",
    "Using ONLY the command line:\n",
    "1. Navigate to your user's Documents folder\n",
    "2. Create a new directory called YourName_folder\n",
    "3. In YourName_folder, create a new text file called YourName_file.txt\n",
    "\n",
    "Bonus! If you finish all that and have time, using only the command line:\n",
    "\n",
    "4. Add the following text to YourName_file.txt, \"Hello World!\"\n",
    "5. Delete YourName_file.txt\n",
    "\n",
    "**Hint:** Google is your friend! There are a lot of great resources online. Don't be afraid to search for help."
   ]
  }
 ],
 "metadata": {
  "kernelspec": {
   "display_name": "Python 3",
   "language": "python",
   "name": "python3"
  },
  "language_info": {
   "codemirror_mode": {
    "name": "ipython",
    "version": 3
   },
   "file_extension": ".py",
   "mimetype": "text/x-python",
   "name": "python",
   "nbconvert_exporter": "python",
   "pygments_lexer": "ipython3",
   "version": "3.8.5"
  }
 },
 "nbformat": 4,
 "nbformat_minor": 5
}
